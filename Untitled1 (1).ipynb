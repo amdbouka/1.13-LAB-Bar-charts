{
 "cells": [
  {
   "cell_type": "code",
   "execution_count": null,
   "id": "f743fb79",
   "metadata": {},
   "outputs": [],
   "source": [
    "import pandas as pd\n",
    "import matplotlib.pyplot as plt\n",
    "import seaborn as sns\n",
    "\n",
    "titanic = pd.read_csv('titanic.csv')\n",
    "\n",
    "# subset the titanic dataset to include first class passengers who embarked in Southampton\n",
    "first_south = titanic[(titanic[\"pclass\"] == 1) & (titanic[\"embarked\"] == \"S\")]\n",
    "\n",
    "# subset the titanic dataset to include either second or third class passengers\n",
    "second_third = titanic[titanic[\"pclass\"]== 3]\n",
    "\n",
    "print(first_south.head())\n",
    "print(second_third.head())\n",
    "\n",
    "# Set the style of the bar charts\n",
    "sns.set_theme(style=\"ticks\", color_codes=True)\n",
    "\n",
    "# Create a bar chart for the first class passengers who embarked in Southampton grouped by sex\n",
    "plt.title(\"Passengers in first class who embarked in Southampton grouped by sex\")\n",
    "sns.countplot(x=\"pclass\", hue=\"sex\", data=first_south)\n",
    "plt.savefig('bar_1.png')\n",
    "plt.show()\n",
    "\n",
    "# Create a bar chart for the second and third class passengers grouped by survival status\n",
    "plt.title('second and third class passengers grouped by survival status')\n",
    "filtered_data = titanic[titanic['pclass'].isin([2, 3])]\n",
    "sns.countplot(x=\"pclass\", hue=\"survived\", data=filtered_data)\n",
    "plt.legend(labels=[\"0\",\"1\"], title = \"survived\")\n",
    "plt.savefig('bar_2.png')\n",
    "plt.show()"
   ]
  },
  {
   "cell_type": "code",
   "execution_count": null,
   "id": "d9c966d1",
   "metadata": {},
   "outputs": [],
   "source": []
  }
 ],
 "metadata": {
  "kernelspec": {
   "display_name": "Python 3 (ipykernel)",
   "language": "python",
   "name": "python3"
  },
  "language_info": {
   "codemirror_mode": {
    "name": "ipython",
    "version": 3
   },
   "file_extension": ".py",
   "mimetype": "text/x-python",
   "name": "python",
   "nbconvert_exporter": "python",
   "pygments_lexer": "ipython3",
   "version": "3.10.9"
  }
 },
 "nbformat": 4,
 "nbformat_minor": 5
}
